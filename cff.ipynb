{
 "cells": [
  {
   "cell_type": "code",
   "execution_count": 82,
   "metadata": {
    "collapsed": true
   },
   "outputs": [],
   "source": [
    "import pandas as pd\n",
    "import geopandas as gpd\n",
    "from shapely.geometry import Point\n",
    "%matplotlib inline\n",
    "pd.set_option('display.max_columns', None)\n",
    "pd.set_option('display.max_rows', None)"
   ]
  },
  {
   "cell_type": "code",
   "execution_count": 83,
   "metadata": {
    "collapsed": false
   },
   "outputs": [],
   "source": [
    "geo_cff = gpd.read_file('openinghours-shops/openinghours-shops.shp', encoding = \"UTF-8\")\n",
    "didok = pd.read_csv(\"station-didok.csv\", error_bad_lines = False, sep = \";\", dtype={'didok85': float})\n",
    "pf = pd.read_csv(\"passenger-frequence.csv\", sep=\";\")"
   ]
  },
  {
   "cell_type": "code",
   "execution_count": 84,
   "metadata": {
    "collapsed": true
   },
   "outputs": [],
   "source": [
    "merged = geo_cff.merge(\n",
    "    didok[['Name', 'didok85', 'means of transport']], \n",
    "    left_on=\"didok\", \n",
    "    right_on=\"didok85\")"
   ]
  },
  {
   "cell_type": "code",
   "execution_count": 85,
   "metadata": {
    "collapsed": false
   },
   "outputs": [
    {
     "data": {
      "text/html": [
       "<div>\n",
       "<table border=\"1\" class=\"dataframe\">\n",
       "  <thead>\n",
       "    <tr style=\"text-align: right;\">\n",
       "      <th></th>\n",
       "      <th>bahnhofsnam</th>\n",
       "      <th>didok</th>\n",
       "      <th>businee_nam</th>\n",
       "      <th>standortdet</th>\n",
       "      <th>geschoss</th>\n",
       "      <th>offnungszei</th>\n",
       "      <th>kategorie</th>\n",
       "      <th>unterkatego</th>\n",
       "      <th>beschreibun</th>\n",
       "      <th>sbb_webseit</th>\n",
       "      <th>mail_adress</th>\n",
       "      <th>telefon</th>\n",
       "      <th>webseite</th>\n",
       "      <th>bilder</th>\n",
       "      <th>logo</th>\n",
       "      <th>schlagworte</th>\n",
       "      <th>zahlungsmit</th>\n",
       "      <th>gultig_ab</th>\n",
       "      <th>gultig_bis</th>\n",
       "      <th>lod</th>\n",
       "      <th>geometry</th>\n",
       "      <th>Name</th>\n",
       "      <th>didok85</th>\n",
       "      <th>means of transport</th>\n",
       "    </tr>\n",
       "  </thead>\n",
       "  <tbody>\n",
       "    <tr>\n",
       "      <th>0</th>\n",
       "      <td></td>\n",
       "      <td>8501609.0</td>\n",
       "      <td>Gepäckaufgabe</td>\n",
       "      <td></td>\n",
       "      <td>Stadtebene</td>\n",
       "      <td></td>\n",
       "      <td>SBB</td>\n",
       "      <td></td>\n",
       "      <td></td>\n",
       "      <td></td>\n",
       "      <td></td>\n",
       "      <td></td>\n",
       "      <td></td>\n",
       "      <td></td>\n",
       "      <td></td>\n",
       "      <td>Koffer|Versand|Ferien|Aufgabe|Gepäck</td>\n",
       "      <td></td>\n",
       "      <td></td>\n",
       "      <td></td>\n",
       "      <td>http://lod.opentransportdata.swiss/didok/8501609</td>\n",
       "      <td>POINT (7.9884074736364 46.319362820281)</td>\n",
       "      <td>Brig</td>\n",
       "      <td>8501609.0</td>\n",
       "      <td>Zug</td>\n",
       "    </tr>\n",
       "    <tr>\n",
       "      <th>1</th>\n",
       "      <td></td>\n",
       "      <td>8501609.0</td>\n",
       "      <td>Sektor B</td>\n",
       "      <td></td>\n",
       "      <td>Stadtebene</td>\n",
       "      <td></td>\n",
       "      <td>SBB</td>\n",
       "      <td></td>\n",
       "      <td></td>\n",
       "      <td></td>\n",
       "      <td></td>\n",
       "      <td></td>\n",
       "      <td></td>\n",
       "      <td></td>\n",
       "      <td></td>\n",
       "      <td></td>\n",
       "      <td></td>\n",
       "      <td></td>\n",
       "      <td></td>\n",
       "      <td>http://lod.opentransportdata.swiss/didok/8501609</td>\n",
       "      <td>POINT (7.9871075350206 46.319016519095)</td>\n",
       "      <td>Brig</td>\n",
       "      <td>8501609.0</td>\n",
       "      <td>Zug</td>\n",
       "    </tr>\n",
       "    <tr>\n",
       "      <th>2</th>\n",
       "      <td></td>\n",
       "      <td>8501609.0</td>\n",
       "      <td>Shopping</td>\n",
       "      <td></td>\n",
       "      <td>Stadtebene</td>\n",
       "      <td></td>\n",
       "      <td>SBB</td>\n",
       "      <td></td>\n",
       "      <td></td>\n",
       "      <td></td>\n",
       "      <td></td>\n",
       "      <td></td>\n",
       "      <td></td>\n",
       "      <td></td>\n",
       "      <td></td>\n",
       "      <td></td>\n",
       "      <td></td>\n",
       "      <td></td>\n",
       "      <td></td>\n",
       "      <td>http://lod.opentransportdata.swiss/didok/8501609</td>\n",
       "      <td>POINT (7.9880493406051 46.319385038627)</td>\n",
       "      <td>Brig</td>\n",
       "      <td>8501609.0</td>\n",
       "      <td>Zug</td>\n",
       "    </tr>\n",
       "  </tbody>\n",
       "</table>\n",
       "</div>"
      ],
      "text/plain": [
       "  bahnhofsnam      didok    businee_nam standortdet    geschoss offnungszei  \\\n",
       "0              8501609.0  Gepäckaufgabe              Stadtebene               \n",
       "1              8501609.0       Sektor B              Stadtebene               \n",
       "2              8501609.0       Shopping              Stadtebene               \n",
       "\n",
       "  kategorie unterkatego beschreibun sbb_webseit mail_adress telefon webseite  \\\n",
       "0       SBB                                                                    \n",
       "1       SBB                                                                    \n",
       "2       SBB                                                                    \n",
       "\n",
       "  bilder logo                           schlagworte zahlungsmit gultig_ab  \\\n",
       "0              Koffer|Versand|Ferien|Aufgabe|Gepäck                         \n",
       "1                                                                           \n",
       "2                                                                           \n",
       "\n",
       "  gultig_bis                                               lod  \\\n",
       "0             http://lod.opentransportdata.swiss/didok/8501609   \n",
       "1             http://lod.opentransportdata.swiss/didok/8501609   \n",
       "2             http://lod.opentransportdata.swiss/didok/8501609   \n",
       "\n",
       "                                  geometry  Name    didok85 means of transport  \n",
       "0  POINT (7.9884074736364 46.319362820281)  Brig  8501609.0                Zug  \n",
       "1  POINT (7.9871075350206 46.319016519095)  Brig  8501609.0                Zug  \n",
       "2  POINT (7.9880493406051 46.319385038627)  Brig  8501609.0                Zug  "
      ]
     },
     "execution_count": 85,
     "metadata": {},
     "output_type": "execute_result"
    }
   ],
   "source": [
    "merged[:3]"
   ]
  },
  {
   "cell_type": "code",
   "execution_count": 86,
   "metadata": {
    "collapsed": false
   },
   "outputs": [
    {
     "data": {
      "text/plain": [
       "SBB                         729\n",
       "Öffentlicher Verkehr        594\n",
       "Shopping                    461\n",
       "Restaurants & Take Aways    227\n",
       "Kombinierte Mobilität       131\n",
       "Services IM                  80\n",
       "Büros & Praxen               67\n",
       "Services P                   55\n",
       "Services-Übrige              42\n",
       "Name: kategorie, dtype: int64"
      ]
     },
     "execution_count": 86,
     "metadata": {},
     "output_type": "execute_result"
    }
   ],
   "source": [
    "merged[\"kategorie\"].value_counts()"
   ]
  },
  {
   "cell_type": "code",
   "execution_count": 87,
   "metadata": {
    "collapsed": false
   },
   "outputs": [
    {
     "data": {
      "text/plain": [
       "                                                                1439\n",
       "Dienstleistungen                                                 264\n",
       "Restaurants / Take-Away                                          219\n",
       "Lebensmittel / Getränke                                          120\n",
       "Gesundheit / Körperpflege                                         75\n",
       "Kioske / Tabakwaren                                               70\n",
       "Bekleidung                                                        42\n",
       "Elektronik / Foto / Musik                                         24\n",
       "Blumen                                                            22\n",
       "Bücher / Papeterie / Bilder                                       19\n",
       "Schmuck / Uhren / Optik                                           16\n",
       "SBB Services                                                      14\n",
       "Schuhe / Reiseartikel / Lederwaren                                13\n",
       "Bücher / Papeterie / Bilder|Kioske / Tabakwaren                   13\n",
       "Geschenkartikel / Haus / Garten                                   11\n",
       "Automaten                                                          6\n",
       "Dienstleistungen|Gesundheit / Körperpflege                         4\n",
       "Sport / Sportbekleidung / Freizeit                                 4\n",
       "Geschenkartikel / Haus / Garten|Schmuck / Uhren / Optik            3\n",
       "Lebensmittel / Getränke|Restaurants / Take-Away                    2\n",
       "Sport / Sportbekleidung / Freizeit|Gesundheit / Körperpflege       1\n",
       "Gesundheit / Körperpflege|Dienstleistungen                         1\n",
       "Geschenkartikel / Haus / Garten|Lebensmittel / Getränke            1\n",
       "Blumen|Dienstleistungen|Geschenkartikel / Haus / Garten            1\n",
       "Bekleidung|Schuhe / Reiseartikel / Lederwaren                      1\n",
       "Bücher / Papeterie / Bilder|Elektronik / Foto / Musik              1\n",
       "Name: unterkatego, dtype: int64"
      ]
     },
     "execution_count": 87,
     "metadata": {},
     "output_type": "execute_result"
    }
   ],
   "source": [
    "merged[\"unterkatego\"].value_counts()"
   ]
  },
  {
   "cell_type": "code",
   "execution_count": 88,
   "metadata": {
    "collapsed": false
   },
   "outputs": [
    {
     "data": {
      "text/plain": [
       "Brezelkönig                                31\n",
       "Caffè Spettacolo                           11\n",
       "Starbucks Coffee                            8\n",
       "Burger King                                 6\n",
       "Avec.                                       5\n",
       "Coop to go                                  4\n",
       "Suan Long                                   4\n",
       "Yooji's Sushi Deli                          4\n",
       "Le Prêt-à-manger                            3\n",
       "Scent of Bamboo                             3\n",
       "Superguud                                   3\n",
       "Nordsee                                     3\n",
       "Il Baretto                                  3\n",
       "McDonald's                                  3\n",
       "Migros Take Away                            3\n",
       "Blueberry American Bakery                   3\n",
       "Aperto                                      2\n",
       "Hitzberger                                  2\n",
       "Upper Crust                                 2\n",
       "A. Pougnier                                 2\n",
       "Zenhäusern - Laden, Restaurant und Shop     2\n",
       "Holy Cow                                    2\n",
       "Migros Bio Take Away                        2\n",
       "Marché Express                              2\n",
       "Tibits Restaurant                           2\n",
       "A Mo' Caffè Bar Ristorante                  2\n",
       "Fruit for Thought                           2\n",
       "Caffè Ritazza                               2\n",
       "Manora fresh to go                          2\n",
       "Subway                                      2\n",
       "Dean&David                                  2\n",
       "Buffet della Stazione                       1\n",
       "Rice Up!                                    1\n",
       "Viva La Vida                                1\n",
       "Bäckerei Jung                               1\n",
       "Hallo                                       1\n",
       "Green Mango                                 1\n",
       "Le Panetier                                 1\n",
       "Sandwich Company                            1\n",
       "Frescotto                                   1\n",
       "Factory Bagel & Juice                       1\n",
       "Spettacolino                                1\n",
       "Da Capo Bar                                 1\n",
       "Moser's Berliner and more                   1\n",
       "Seven Spices                                1\n",
       "Emporio Ristorante Bar                      1\n",
       "La Petite Cave du Palais                    1\n",
       "Snack Bar Espresso                          1\n",
       "Valentino Box                               1\n",
       "KaimugBox & Sushi Mania                     1\n",
       "City Bistrò                                 1\n",
       "La Rôtisserie                               1\n",
       "Joe & The Juice                             1\n",
       "SV (Schweiz) AG                             1\n",
       "Domino's Pizza                              1\n",
       "Time…. Lounge                               1\n",
       "Pasta Barn                                  1\n",
       "Snack Stop                                  1\n",
       "Café Oscar                                  1\n",
       "Greens                                      1\n",
       "Antidote Lounge Bar                         1\n",
       "Snack Bar                                   1\n",
       "Pizza Pasta Panini                          1\n",
       "SNAP                                        1\n",
       "Little Istanbul                             1\n",
       "Brasserie Restaurant                        1\n",
       "Zopf & Zöpfli                               1\n",
       "Chez Carmen                                 1\n",
       "King Food                                   1\n",
       "Espressino                                  1\n",
       "Bobby & Fritz                               1\n",
       "Al Volo Pizzeria                            1\n",
       "SousSol Coffee Bar Restaurant               1\n",
       "Bona Dea                                    1\n",
       "Tres Amigos - Mexican Bar & Restaurant      1\n",
       "Da Capo Restaurant                          1\n",
       "Burger King Express                         1\n",
       "RailBistro                                  1\n",
       "Ekaï Sushi                                  1\n",
       "Sora Sushi                                  1\n",
       "Au Premier                                  1\n",
       "Pouly Boulangerie                           1\n",
       "Buffet Express                              1\n",
       "Fresh Side                                  1\n",
       "Negishi Sushi Bar                           1\n",
       "Royal Döner                                 1\n",
       "Mövenpick                                   1\n",
       "Panetarium Bäckerei                         1\n",
       "Mangia Mangia                               1\n",
       "Passaggio Caffè & Take Away                 1\n",
       "Restaurant Asia Express                     1\n",
       "Imagine                                     1\n",
       "Bahnhofbuffet                               1\n",
       "Il Forno                                    1\n",
       "Seven Days - Bahnhof Pizzeria Kebab         1\n",
       "Bar-Café  Le Quai 10                        1\n",
       "Perron 1 - Lounge Bar                       1\n",
       "Cakefriends                                 1\n",
       "Jack&Jo                                     1\n",
       "Goodie Healthy Food                         1\n",
       "Confiserie Sprüngli                         1\n",
       "AnaCapri Bar Ristorante Pizzeria            1\n",
       "Metzgerei Horber                            1\n",
       "Glob Restaurant Café                        1\n",
       "Railone Coffee & Bar                        1\n",
       "Migros Restaurant                           1\n",
       "La Taverne                                  1\n",
       "Big Baba’s  Döner Kebab                     1\n",
       "Krispy Kröst                                1\n",
       "Coffee & Friends                            1\n",
       "SBB Restaurant Oase                         1\n",
       "Délifrance Snack                            1\n",
       "Golden Coffee                               1\n",
       "Babić Cafe                                  1\n",
       "Brasserie Federal                           1\n",
       "Snack Aux Bonnes Choses                     1\n",
       "Mühlbach Take Away                          1\n",
       "Atrio Pizzeria & Bar                        1\n",
       "SBB Personalrestaurant Pendolino            1\n",
       "Rapido                                      1\n",
       "Café-Restaurant à l’étage                   1\n",
       "Côté Sud Restaurant                         1\n",
       "SUC+ Juice Bars                             1\n",
       "Frau Helvetia                               1\n",
       "Züri-Bistro                                 1\n",
       "Far East                                    1\n",
       "Caffé Dipiaza                               1\n",
       "Le Café                                     1\n",
       "Müesli Bar                                  1\n",
       "Raponi Café Bar                             1\n",
       "Wesley's Kitchen                            1\n",
       "Name: businee_nam, dtype: int64"
      ]
     },
     "execution_count": 88,
     "metadata": {},
     "output_type": "execute_result"
    }
   ],
   "source": [
    "rest = geo_cff[geo_cff['kategorie'] == \"Restaurants & Take Aways\"]\n",
    "\n",
    "rest['businee_nam'].value_counts()"
   ]
  },
  {
   "cell_type": "code",
   "execution_count": 89,
   "metadata": {
    "collapsed": false
   },
   "outputs": [
    {
     "data": {
      "text/plain": [
       "K Kiosk                                            65\n",
       "Press & Books                                      13\n",
       "Coop                                               11\n",
       "Coop Pronto                                        10\n",
       "Confiserie Sprüngli                                 9\n",
       "Lolipop - the Candy Shop                            8\n",
       "Chicorée                                            8\n",
       "Drinks of the World                                 8\n",
       "Migros                                              8\n",
       "5àSec                                               7\n",
       "Blume 3000                                          7\n",
       "Orell Füssli                                        6\n",
       "Amavita Apotheke                                    6\n",
       "Läderach Chocolatier Suisse                         6\n",
       "Swisscom                                            5\n",
       "Sun Store Pharmacie                                 5\n",
       "Salt.                                               5\n",
       "Gidor Coiffure                                      4\n",
       "Inside Africa                                       4\n",
       "Import Parfumerie                                   4\n",
       "Claire's                                            4\n",
       "Vero Moda                                           4\n",
       "Aperto                                              4\n",
       "Bäckerei Hug                                        4\n",
       "Interdiscount                                       4\n",
       "Tekoe                                               4\n",
       "The Body Shop                                       3\n",
       "Mobilezone                                          3\n",
       "iPhone Klinik                                       3\n",
       "Marionnaud Parfumeries                              3\n",
       "Benu Apotheke                                       3\n",
       "Mister Minit                                        3\n",
       "Visilab                                             3\n",
       "Terlinden Textilpflege                              3\n",
       "Calida                                              3\n",
       "Tchibo                                              3\n",
       "CopyQuick                                           3\n",
       "Sunrise Center                                      2\n",
       "Box                                                 2\n",
       "Softridge                                           2\n",
       "Läckerli Huus                                       2\n",
       "Tally Weijl                                         2\n",
       "SilverLand Schmuck                                  2\n",
       "Bahnhof Apotheke                                    2\n",
       "Blumen Krämer                                       2\n",
       "L'Occitane                                          2\n",
       "Pop-Up Store                                        2\n",
       "Confiserie Bachmann                                 2\n",
       "Guerini Schuhe                                      2\n",
       "Egli Reform                                         2\n",
       "Swatch Store                                        2\n",
       "Accessorize                                         2\n",
       "Snipes                                              2\n",
       "Kleiner Bäckerei-Konditorei                         2\n",
       "Blumen Ackermann                                    2\n",
       "Manor                                               2\n",
       "Kiko Milano                                         2\n",
       "Reiz                                                2\n",
       "Weltbildverlag Bücher / Geschenke                   2\n",
       "Vögele Shoes                                        2\n",
       "Rituals                                             2\n",
       "Coiffure Orinad                                     2\n",
       "Pharmacieplus                                       2\n",
       "Edelweiss Shop                                      2\n",
       "Blumenhaus Frei                                     2\n",
       "Leutwyler Floristik                                 1\n",
       "Stockout Grieder                                    1\n",
       "Tschümperlin Schuhe                                 1\n",
       "Biolade Bade                                        1\n",
       "CHRIST                                              1\n",
       "Alfred Barth AG                                     1\n",
       "Coiffure Grob                                       1\n",
       "Bahnhof Apotheke Schaffhausen                       1\n",
       "Street One                                          1\n",
       "Depot                                               1\n",
       "Exurbe Cosmetics                                    1\n",
       "Kleidi                                              1\n",
       "Coiffure Lüdi                                       1\n",
       "Kofler                                              1\n",
       "Bäckerei Conditorei Stocker                         1\n",
       "Souvenir Shop                                       1\n",
       "Bahnhof Apotheke Aarau                              1\n",
       "Schirm-Fredi                                        1\n",
       "Upstairs Coiffure                                   1\n",
       "Asia Store                                          1\n",
       "Aperto 24 Alimentation                              1\n",
       "Rail Hair-Parrucchiere                              1\n",
       "Kiosque Relay                                       1\n",
       "Lush                                                1\n",
       "Migrolino                                           1\n",
       "PharmaExpress                                       1\n",
       "Loto Express                                        1\n",
       "Mayra's Boutique-Moda Latina                        1\n",
       "McCoiffure                                          1\n",
       "Lederschmid                                         1\n",
       "Blumen Blattlaus                                    1\n",
       "Tom Tailor                                          1\n",
       "Review                                              1\n",
       "MAC Cosmetics                                       1\n",
       "Gabor                                               1\n",
       "Best Price: Horloges, bijoux, cadeaux               1\n",
       "Daily Migros                                        1\n",
       "Schuler Bücher                                      1\n",
       "Media Markt                                         1\n",
       "Lüdi Coiffure                                       1\n",
       "Six                                                 1\n",
       "Karma                                               1\n",
       "Aradu                                               1\n",
       "Ochsner Sport                                       1\n",
       "Sutter Begg                                         1\n",
       "Fust dipl. Ing. AG                                  1\n",
       "Boulangeries-Pâtisseries Haeberli                   1\n",
       "Self Solarium centre azur                           1\n",
       "Foot Locker                                         1\n",
       "Pharmacie de la Gare                                1\n",
       "Bahnhof Apotheke Drogerie                           1\n",
       "Drogerie im Bahnhof                                 1\n",
       "Rhyner's Kiosk                                      1\n",
       "Confisierie Eichenberger                            1\n",
       "H&M                                                 1\n",
       "Dosenbach                                           1\n",
       "Metzgerei Macelleria Zanetti                        1\n",
       "Piccobello                                          1\n",
       "Cordonnerie - Clés minute                           1\n",
       "BüroExpress                                         1\n",
       "Esprit                                              1\n",
       "Pandora                                             1\n",
       "Self-Solarium Les Bronzés                           1\n",
       "Copyprint                                           1\n",
       "Cut Club                                            1\n",
       "Bayard Co. Ltd.                                     1\n",
       "Merz Bäckerei Konditorei                            1\n",
       "Hair Factory                                        1\n",
       "Prismaflor Blumen                                   1\n",
       "Rukka                                               1\n",
       "Flowerpoint                                         1\n",
       "Shop express                                        1\n",
       "Sports Village                                      1\n",
       "Intimissimi                                         1\n",
       "New Jack Shop                                       1\n",
       "Loeb Uhren & Accessoires                            1\n",
       "Bäckerei Konditorei Reinhard                        1\n",
       "Apotheke im Bahnhof                                 1\n",
       "Belmundo                                            1\n",
       "microspot.ch                                        1\n",
       "Blumen Müller                                       1\n",
       "Nespresso                                           1\n",
       "Fleuriot Fleurs                                     1\n",
       "Huasi Silk Collection                               1\n",
       "Aloc Cars Location de véhicule                      1\n",
       "Marken-Outlet                                       1\n",
       "Dosenbach + Sport                                   1\n",
       "Flying Tiger Copenhagen                             1\n",
       "Nail World Center                                   1\n",
       "Aubert Fleurs                                       1\n",
       "Presende                                            1\n",
       "Bahnhof Apotheke Oerlikon                           1\n",
       "Schwaller + Gasser - Schlüsselservice               1\n",
       "Coiffure Claus & Carla                              1\n",
       "Hair Factory Coiffeur                               1\n",
       "Stella Chocolat                                     1\n",
       "Apotheke-Drogerie                                   1\n",
       "Confisierie Reber                                   1\n",
       "Cordon Rouge                                        1\n",
       "Bahnhof Apotheke Drogerie Parfümerie Winterthur     1\n",
       "Wachtercards Papeterie                              1\n",
       "Naturewell Apotheke                                 1\n",
       "ShopVilleMärt                                       1\n",
       "Ex Libris                                           1\n",
       "Ochsner Shoes                                       1\n",
       "Kiosk ZHB                                           1\n",
       "Big                                                 1\n",
       "Blumen Sauber                                       1\n",
       "Minelli AG                                          1\n",
       "André Joe Coiffure & Parfumerie                     1\n",
       "SchreibBar Tonin                                    1\n",
       "Dolmetsch AG                                        1\n",
       "Aduaman Concept Store                               1\n",
       "Worldwide beers & spirits                           1\n",
       "Roggwiller                                          1\n",
       "iKlinik                                             1\n",
       "Zebra Fashion AG                                    1\n",
       "Chocolat Canonica                                   1\n",
       "Blumenhaus Lüthi                                    1\n",
       "Zug Apotheke                                        1\n",
       "Sherpa Outdoor                                      1\n",
       "L'tur                                               1\n",
       "Marc O'Polo                                         1\n",
       "Au Bijou                                            1\n",
       "Zigarren Dürr                                       1\n",
       "Bahnhof Coiffeur Sommer                             1\n",
       "Schutz Filisur Blumen                               1\n",
       "Swiss Shop 1291                                     1\n",
       "Jack & Jones                                        1\n",
       "Confiserie Tschirren                                1\n",
       "Rathaus Apotheke                                    1\n",
       "André Joe Coiffure                                  1\n",
       "Copacabana Geschenke                                1\n",
       "Lüthy Balmer Stocker Buchhaus.ch                    1\n",
       "Calzedonia                                          1\n",
       "Optic 2000                                          1\n",
       "Atlas Clean GmbH                                    1\n",
       "InStyle Hair&Beauty Lounge                          1\n",
       "Payot Libraire                                      1\n",
       "Baur au Lac Vins                                    1\n",
       "Vital Punkt Bahnhof - Drogerie                      1\n",
       "Magic X Erotikshop                                  1\n",
       "Natürli                                             1\n",
       "Buch-Paradies                                       1\n",
       "Ryf Coiffure                                        1\n",
       "Bäckerei Buchmann                                   1\n",
       "Coiffure 19th Avenue                                1\n",
       "Metzgerei Traiteur Kauffmann                        1\n",
       "Hairstyle Füchslin                                  1\n",
       "Name: businee_nam, dtype: int64"
      ]
     },
     "execution_count": 89,
     "metadata": {},
     "output_type": "execute_result"
    }
   ],
   "source": [
    "shop = geo_cff[geo_cff['kategorie'] == \"Shopping\"]\n",
    "\n",
    "shop['businee_nam'].value_counts()"
   ]
  },
  {
   "cell_type": "code",
   "execution_count": 91,
   "metadata": {
    "collapsed": false
   },
   "outputs": [],
   "source": [
    "# Virer les sans catégories\n",
    "\n",
    "df = (merged[merged['kategorie'] != \"\"]\n",
    "      .groupby(\"Name\")['kategorie']\n",
    "      .value_counts() ## for counts\n",
    "      .reset_index(name=\"count\"))"
   ]
  },
  {
   "cell_type": "code",
   "execution_count": 92,
   "metadata": {
    "collapsed": false
   },
   "outputs": [
    {
     "data": {
      "text/html": [
       "<div>\n",
       "<table border=\"1\" class=\"dataframe\">\n",
       "  <thead>\n",
       "    <tr style=\"text-align: right;\">\n",
       "      <th></th>\n",
       "      <th>Name</th>\n",
       "      <th>kategorie</th>\n",
       "      <th>count</th>\n",
       "    </tr>\n",
       "  </thead>\n",
       "  <tbody>\n",
       "    <tr>\n",
       "      <th>0</th>\n",
       "      <td>Aarau</td>\n",
       "      <td>SBB</td>\n",
       "      <td>38</td>\n",
       "    </tr>\n",
       "    <tr>\n",
       "      <th>1</th>\n",
       "      <td>Aarau</td>\n",
       "      <td>Öffentlicher Verkehr</td>\n",
       "      <td>34</td>\n",
       "    </tr>\n",
       "    <tr>\n",
       "      <th>2</th>\n",
       "      <td>Aarau</td>\n",
       "      <td>Shopping</td>\n",
       "      <td>16</td>\n",
       "    </tr>\n",
       "    <tr>\n",
       "      <th>3</th>\n",
       "      <td>Aarau</td>\n",
       "      <td>Kombinierte Mobilität</td>\n",
       "      <td>4</td>\n",
       "    </tr>\n",
       "    <tr>\n",
       "      <th>4</th>\n",
       "      <td>Aarau</td>\n",
       "      <td>Restaurants &amp; Take Aways</td>\n",
       "      <td>4</td>\n",
       "    </tr>\n",
       "  </tbody>\n",
       "</table>\n",
       "</div>"
      ],
      "text/plain": [
       "    Name                 kategorie  count\n",
       "0  Aarau                       SBB     38\n",
       "1  Aarau      Öffentlicher Verkehr     34\n",
       "2  Aarau                  Shopping     16\n",
       "3  Aarau     Kombinierte Mobilität      4\n",
       "4  Aarau  Restaurants & Take Aways      4"
      ]
     },
     "execution_count": 92,
     "metadata": {},
     "output_type": "execute_result"
    }
   ],
   "source": [
    "df.head()"
   ]
  },
  {
   "cell_type": "code",
   "execution_count": 93,
   "metadata": {
    "collapsed": false
   },
   "outputs": [
    {
     "data": {
      "text/html": [
       "<div>\n",
       "<table border=\"1\" class=\"dataframe\">\n",
       "  <thead>\n",
       "    <tr style=\"text-align: right;\">\n",
       "      <th>kategorie</th>\n",
       "      <th>Büros &amp; Praxen</th>\n",
       "      <th>Kombinierte Mobilität</th>\n",
       "      <th>Restaurants &amp; Take Aways</th>\n",
       "      <th>SBB</th>\n",
       "      <th>Services IM</th>\n",
       "      <th>Services P</th>\n",
       "      <th>Services-Übrige</th>\n",
       "      <th>Shopping</th>\n",
       "      <th>Öffentlicher Verkehr</th>\n",
       "    </tr>\n",
       "    <tr>\n",
       "      <th>Name</th>\n",
       "      <th></th>\n",
       "      <th></th>\n",
       "      <th></th>\n",
       "      <th></th>\n",
       "      <th></th>\n",
       "      <th></th>\n",
       "      <th></th>\n",
       "      <th></th>\n",
       "      <th></th>\n",
       "    </tr>\n",
       "  </thead>\n",
       "  <tbody>\n",
       "    <tr>\n",
       "      <th>Aarau</th>\n",
       "      <td>NaN</td>\n",
       "      <td>4.0</td>\n",
       "      <td>4.0</td>\n",
       "      <td>38.0</td>\n",
       "      <td>NaN</td>\n",
       "      <td>2.0</td>\n",
       "      <td>2.0</td>\n",
       "      <td>16.0</td>\n",
       "      <td>34.0</td>\n",
       "    </tr>\n",
       "    <tr>\n",
       "      <th>Baden</th>\n",
       "      <td>NaN</td>\n",
       "      <td>4.0</td>\n",
       "      <td>4.0</td>\n",
       "      <td>NaN</td>\n",
       "      <td>NaN</td>\n",
       "      <td>2.0</td>\n",
       "      <td>2.0</td>\n",
       "      <td>2.0</td>\n",
       "      <td>NaN</td>\n",
       "    </tr>\n",
       "    <tr>\n",
       "      <th>Basel SBB</th>\n",
       "      <td>5.0</td>\n",
       "      <td>7.0</td>\n",
       "      <td>6.0</td>\n",
       "      <td>49.0</td>\n",
       "      <td>7.0</td>\n",
       "      <td>2.0</td>\n",
       "      <td>1.0</td>\n",
       "      <td>28.0</td>\n",
       "      <td>36.0</td>\n",
       "    </tr>\n",
       "    <tr>\n",
       "      <th>Bellinzona</th>\n",
       "      <td>2.0</td>\n",
       "      <td>3.0</td>\n",
       "      <td>3.0</td>\n",
       "      <td>40.0</td>\n",
       "      <td>3.0</td>\n",
       "      <td>2.0</td>\n",
       "      <td>1.0</td>\n",
       "      <td>3.0</td>\n",
       "      <td>18.0</td>\n",
       "    </tr>\n",
       "    <tr>\n",
       "      <th>Bern</th>\n",
       "      <td>4.0</td>\n",
       "      <td>9.0</td>\n",
       "      <td>20.0</td>\n",
       "      <td>46.0</td>\n",
       "      <td>9.0</td>\n",
       "      <td>2.0</td>\n",
       "      <td>4.0</td>\n",
       "      <td>55.0</td>\n",
       "      <td>43.0</td>\n",
       "    </tr>\n",
       "  </tbody>\n",
       "</table>\n",
       "</div>"
      ],
      "text/plain": [
       "kategorie   Büros & Praxen  Kombinierte Mobilität  Restaurants & Take Aways  \\\n",
       "Name                                                                          \n",
       "Aarau                  NaN                    4.0                       4.0   \n",
       "Baden                  NaN                    4.0                       4.0   \n",
       "Basel SBB              5.0                    7.0                       6.0   \n",
       "Bellinzona             2.0                    3.0                       3.0   \n",
       "Bern                   4.0                    9.0                      20.0   \n",
       "\n",
       "kategorie    SBB  Services IM  Services P  Services-Übrige  Shopping  \\\n",
       "Name                                                                   \n",
       "Aarau       38.0          NaN         2.0              2.0      16.0   \n",
       "Baden        NaN          NaN         2.0              2.0       2.0   \n",
       "Basel SBB   49.0          7.0         2.0              1.0      28.0   \n",
       "Bellinzona  40.0          3.0         2.0              1.0       3.0   \n",
       "Bern        46.0          9.0         2.0              4.0      55.0   \n",
       "\n",
       "kategorie   Öffentlicher Verkehr  \n",
       "Name                              \n",
       "Aarau                       34.0  \n",
       "Baden                        NaN  \n",
       "Basel SBB                   36.0  \n",
       "Bellinzona                  18.0  \n",
       "Bern                        43.0  "
      ]
     },
     "execution_count": 93,
     "metadata": {},
     "output_type": "execute_result"
    }
   ],
   "source": [
    "df = df.pivot(index = \"Name\", columns = \"kategorie\", values = \"count\")\n",
    "df.head()"
   ]
  },
  {
   "cell_type": "code",
   "execution_count": 94,
   "metadata": {
    "collapsed": false,
    "scrolled": true
   },
   "outputs": [],
   "source": [
    "df.fillna(0, inplace = True)"
   ]
  },
  {
   "cell_type": "code",
   "execution_count": 95,
   "metadata": {
    "collapsed": false
   },
   "outputs": [],
   "source": [
    "df.reset_index(inplace = True ) # pour modifier la nouvelle df"
   ]
  },
  {
   "cell_type": "markdown",
   "metadata": {},
   "source": [
    "# Formule math pour calculer les ressemblances"
   ]
  },
  {
   "cell_type": "code",
   "execution_count": 96,
   "metadata": {
    "collapsed": true
   },
   "outputs": [],
   "source": [
    "from sklearn.metrics.pairwise import cosine_similarity"
   ]
  },
  {
   "cell_type": "code",
   "execution_count": 97,
   "metadata": {
    "collapsed": true
   },
   "outputs": [],
   "source": [
    "names = df['Name']"
   ]
  },
  {
   "cell_type": "code",
   "execution_count": 98,
   "metadata": {
    "collapsed": false
   },
   "outputs": [],
   "source": [
    "cols = list(df.columns.values) ## supprimer la colonne des Noms (strings)\n",
    "cols = cols[1:]"
   ]
  },
  {
   "cell_type": "code",
   "execution_count": 99,
   "metadata": {
    "collapsed": false
   },
   "outputs": [],
   "source": [
    "features_df = df[cols]"
   ]
  },
  {
   "cell_type": "code",
   "execution_count": 100,
   "metadata": {
    "collapsed": false
   },
   "outputs": [],
   "source": [
    "similarity = cosine_similarity(features_df)\n",
    "similarity_df = pd.DataFrame(similarity, columns = names, index = names) # on remet les noms de ville"
   ]
  },
  {
   "cell_type": "code",
   "execution_count": 101,
   "metadata": {
    "collapsed": false
   },
   "outputs": [
    {
     "data": {
      "text/plain": [
       "Name\n",
       "Lausanne              1.000000\n",
       "Yverdon-les-Bains     0.979130\n",
       "Zürich Enge           0.977245\n",
       "St. Gallen            0.933848\n",
       "Wil                   0.928085\n",
       "Zürich Stadelhofen    0.904094\n",
       "Visp                  0.849644\n",
       "Uster                 0.843925\n",
       "Zürich HB             0.837187\n",
       "Thun                  0.837158\n",
       "Sion                  0.789045\n",
       "Delémont              0.776297\n",
       "Solothurn             0.688530\n",
       "Baden                 0.674200\n",
       "Bern                  0.670836\n",
       "Luzern                0.594382\n",
       "Genève                0.532257\n",
       "Basel SBB             0.417767\n",
       "Genève-Aéroport       0.391065\n",
       "Winterthur            0.339716\n",
       "Zürich Oerlikon       0.334291\n",
       "Aarau                 0.296400\n",
       "Neuchâtel             0.279108\n",
       "Chur                  0.270633\n",
       "Locarno               0.266335\n",
       "Fribourg/Freiburg     0.253446\n",
       "Montreux              0.250347\n",
       "Schaffhausen          0.185723\n",
       "Olten                 0.184511\n",
       "Zug                   0.180707\n",
       "Lugano                0.156556\n",
       "Biel/Bienne           0.152418\n",
       "Bellinzona            0.114222\n",
       "Brig                  0.100502\n",
       "Name: Lausanne, dtype: float64"
      ]
     },
     "execution_count": 101,
     "metadata": {},
     "output_type": "execute_result"
    }
   ],
   "source": [
    "similarity_df[\"Lausanne\"].sort_values(ascending = False)"
   ]
  },
  {
   "cell_type": "code",
   "execution_count": 102,
   "metadata": {
    "collapsed": true
   },
   "outputs": [],
   "source": [
    "import seaborn as sns\n",
    "%matplotlib inline"
   ]
  },
  {
   "cell_type": "code",
   "execution_count": 103,
   "metadata": {
    "collapsed": false
   },
   "outputs": [],
   "source": [
    "import matplotlib\n",
    "import matplotlib.pyplot as plt\n",
    "matplotlib.rcParams[\"pdf.fonttype\"] = 42"
   ]
  },
  {
   "cell_type": "code",
   "execution_count": 104,
   "metadata": {
    "collapsed": false
   },
   "outputs": [
    {
     "data": {
      "text/plain": [
       "<matplotlib.axes._subplots.AxesSubplot at 0x116593518>"
      ]
     },
     "execution_count": 104,
     "metadata": {},
     "output_type": "execute_result"
    },
    {
     "data": {
      "image/png": "[encoded data removed]",
      "text/plain": [
       "<matplotlib.figure.Figure at 0x11bb20160>"
      ]
     },
     "metadata": {},
     "output_type": "display_data"
    }
   ],
   "source": [
    "fig, ax = plt.subplots(figsize=(10, 10))\n",
    "sns.heatmap(similarity_df, cmap = \"inferno\")\n",
    "#plt.savefig(\"graphique_gare3.pdf\")"
   ]
  },
  {
   "cell_type": "markdown",
   "metadata": {},
   "source": [
    "# Faire des groupes de gares qui se ressemblent"
   ]
  },
  {
   "cell_type": "code",
   "execution_count": 105,
   "metadata": {
    "collapsed": true
   },
   "outputs": [],
   "source": [
    "from sklearn.cluster import KMeans\n",
    "\n",
    "# basé sur l'écart à la moyenne"
   ]
  },
  {
   "cell_type": "code",
   "execution_count": 106,
   "metadata": {
    "collapsed": false
   },
   "outputs": [],
   "source": [
    "km = KMeans(n_clusters = 3)\n",
    "km.fit(features_df)\n",
    "df[\"groupes\"] = km.labels_"
   ]
  },
  {
   "cell_type": "code",
   "execution_count": 107,
   "metadata": {
    "collapsed": false
   },
   "outputs": [],
   "source": [
    "df = df.sort_values(\"groupes\")"
   ]
  },
  {
   "cell_type": "code",
   "execution_count": 108,
   "metadata": {
    "collapsed": false
   },
   "outputs": [
    {
     "data": {
      "text/plain": [
       "0    18\n",
       "1    15\n",
       "2     1\n",
       "Name: groupes, dtype: int64"
      ]
     },
     "execution_count": 108,
     "metadata": {},
     "output_type": "execute_result"
    }
   ],
   "source": [
    "df['groupes'].value_counts()"
   ]
  },
  {
   "cell_type": "code",
   "execution_count": 109,
   "metadata": {
    "collapsed": false
   },
   "outputs": [
    {
     "data": {
      "text/plain": [
       "0                 Aarau\n",
       "19         Schaffhausen\n",
       "18                Olten\n",
       "17            Neuchâtel\n",
       "32      Zürich Oerlikon\n",
       "15               Luzern\n",
       "14               Lugano\n",
       "27           Winterthur\n",
       "10               Genève\n",
       "11      Genève-Aéroport\n",
       "29                  Zug\n",
       "7                  Chur\n",
       "6                  Brig\n",
       "5           Biel/Bienne\n",
       "4                  Bern\n",
       "3            Bellinzona\n",
       "2             Basel SBB\n",
       "9     Fribourg/Freiburg\n",
       "Name: Name, dtype: object"
      ]
     },
     "execution_count": 109,
     "metadata": {},
     "output_type": "execute_result"
    }
   ],
   "source": [
    "df[df[\"groupes\"] == 0]['Name']"
   ]
  },
  {
   "cell_type": "code",
   "execution_count": 110,
   "metadata": {
    "collapsed": false
   },
   "outputs": [
    {
     "data": {
      "text/plain": [
       "25                  Visp\n",
       "28     Yverdon-les-Bains\n",
       "30           Zürich Enge\n",
       "26                   Wil\n",
       "24                 Uster\n",
       "16              Montreux\n",
       "22            St. Gallen\n",
       "21             Solothurn\n",
       "20                  Sion\n",
       "13               Locarno\n",
       "12              Lausanne\n",
       "8               Delémont\n",
       "1                  Baden\n",
       "23                  Thun\n",
       "33    Zürich Stadelhofen\n",
       "Name: Name, dtype: object"
      ]
     },
     "execution_count": 110,
     "metadata": {},
     "output_type": "execute_result"
    }
   ],
   "source": [
    "df[df[\"groupes\"] == 1]['Name']"
   ]
  },
  {
   "cell_type": "code",
   "execution_count": 111,
   "metadata": {
    "collapsed": false
   },
   "outputs": [
    {
     "data": {
      "text/plain": [
       "31    Zürich HB\n",
       "Name: Name, dtype: object"
      ]
     },
     "execution_count": 111,
     "metadata": {},
     "output_type": "execute_result"
    }
   ],
   "source": [
    "df[df[\"groupes\"] == 2]['Name']"
   ]
  }
 ],
 "metadata": {
  "anaconda-cloud": {},
  "kernelspec": {
   "display_name": "Python [Root]",
   "language": "python",
   "name": "Python [Root]"
  },
  "language_info": {
   "codemirror_mode": {
    "name": "ipython",
    "version": 3
   },
   "file_extension": ".py",
   "mimetype": "text/x-python",
   "name": "python",
   "nbconvert_exporter": "python",
   "pygments_lexer": "ipython3",
   "version": "3.5.2"
  }
 },
 "nbformat": 4,
 "nbformat_minor": 0
}
